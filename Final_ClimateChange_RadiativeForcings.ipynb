{
  "nbformat": 4,
  "nbformat_minor": 0,
  "metadata": {
    "colab": {
      "name": "Final_ClimateChange_RadiativeForcings.ipynb",
      "provenance": [],
      "collapsed_sections": [],
      "include_colab_link": true
    },
    "kernelspec": {
      "name": "python3",
      "display_name": "Python 3"
    },
    "language_info": {
      "name": "python"
    }
  },
  "cells": [
    {
      "cell_type": "markdown",
      "metadata": {
        "id": "view-in-github",
        "colab_type": "text"
      },
      "source": [
        "<a href=\"https://colab.research.google.com/github/vineetshah53/ClimateChange/blob/main/Final_ClimateChange_RadiativeForcings.ipynb\" target=\"_parent\"><img src=\"https://colab.research.google.com/assets/colab-badge.svg\" alt=\"Open In Colab\"/></a>"
      ]
    },
    {
      "cell_type": "markdown",
      "metadata": {
        "id": "0Tt5VNTs69q_"
      },
      "source": [
        ""
      ]
    },
    {
      "cell_type": "code",
      "metadata": {
        "id": "G0dyjDC0wC7f"
      },
      "source": [
        "#Setting Up\n",
        "\n",
        "import os # import OS module to interact with Operating System\n",
        "import datetime # import module to manipulate date and time\n",
        "\n",
        "import IPython # import ipython command shell\n",
        "import IPython.display # import display tools\n",
        "\n",
        "import matplotlib as mpl # import matplot library for visualization\n",
        "import matplotlib.pyplot as plt # import library to plot timeseries data\n",
        "\n",
        "import numpy as np # import numpy library for mathematical operations\n",
        "import pandas as pd # import pandas library to process timeseries data\n",
        "import seaborn as sns # import seaborn library to process statistical graphics\n",
        "import tensorflow as tf # import tensorflow \n",
        "\n",
        "from tensorflow import keras # import Keras to build and summarize the model\n",
        "import plotly.express as px # import plotly.express to create graphs\n",
        "\n",
        "from sklearn.preprocessing import MinMaxScaler # to normalize training data\n",
        "\n",
        "mpl.rcParams['figure.figsize'] = (8,6) # setting the size of figures plotted using mpl\n",
        "mpl.rcParams['axes.grid'] = False # setting not to show gridlines on plots\n"
      ],
      "execution_count": null,
      "outputs": []
    },
    {
      "cell_type": "code",
      "metadata": {
        "id": "y2D9qZTF3wqT",
        "colab": {
          "resources": {
            "http://localhost:8080/nbextensions/google.colab/files.js": {
              "data": "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",
              "ok": true,
              "headers": [
                [
                  "content-type",
                  "application/javascript"
                ]
              ],
              "status": 200,
              "status_text": ""
            }
          },
          "base_uri": "https://localhost:8080/",
          "height": 73
        },
        "outputId": "e6b64370-12f4-462e-8925-3c5dcac01e0c"
      },
      "source": [
        "# Importing Data from computer \n",
        "\n",
        "from google.colab import files\n",
        "uploaded = files.upload()\n",
        "\n",
        "import io\n",
        "df = pd.read_csv(io.BytesIO(uploaded['Train.csv']))\n"
      ],
      "execution_count": null,
      "outputs": [
        {
          "output_type": "display_data",
          "data": {
            "text/html": [
              "\n",
              "     <input type=\"file\" id=\"files-ce08c20b-841e-4b19-a8e6-d40e9d22a88b\" name=\"files[]\" multiple disabled\n",
              "        style=\"border:none\" />\n",
              "     <output id=\"result-ce08c20b-841e-4b19-a8e6-d40e9d22a88b\">\n",
              "      Upload widget is only available when the cell has been executed in the\n",
              "      current browser session. Please rerun this cell to enable.\n",
              "      </output>\n",
              "      <script src=\"/nbextensions/google.colab/files.js\"></script> "
            ],
            "text/plain": [
              "<IPython.core.display.HTML object>"
            ]
          },
          "metadata": {
            "tags": []
          }
        },
        {
          "output_type": "stream",
          "text": [
            "Saving Train.csv to Train (3).csv\n"
          ],
          "name": "stdout"
        }
      ]
    },
    {
      "cell_type": "code",
      "metadata": {
        "id": "MZmE0uczBc5l",
        "colab": {
          "base_uri": "https://localhost:8080/",
          "height": 206
        },
        "outputId": "a22a92a0-fc06-4fa0-f602-dba34e975066"
      },
      "source": [
        "# Check Training Data\n",
        "\n",
        "df.head()\n"
      ],
      "execution_count": null,
      "outputs": [
        {
          "output_type": "execute_result",
          "data": {
            "text/html": [
              "<div>\n",
              "<style scoped>\n",
              "    .dataframe tbody tr th:only-of-type {\n",
              "        vertical-align: middle;\n",
              "    }\n",
              "\n",
              "    .dataframe tbody tr th {\n",
              "        vertical-align: top;\n",
              "    }\n",
              "\n",
              "    .dataframe thead th {\n",
              "        text-align: right;\n",
              "    }\n",
              "</style>\n",
              "<table border=\"1\" class=\"dataframe\">\n",
              "  <thead>\n",
              "    <tr style=\"text-align: right;\">\n",
              "      <th></th>\n",
              "      <th>Years</th>\n",
              "      <th>CO2EQ</th>\n",
              "      <th>CO2</th>\n",
              "      <th>CH4</th>\n",
              "      <th>N2O</th>\n",
              "      <th>RF</th>\n",
              "    </tr>\n",
              "  </thead>\n",
              "  <tbody>\n",
              "    <tr>\n",
              "      <th>0</th>\n",
              "      <td>1765</td>\n",
              "      <td>277.01467</td>\n",
              "      <td>278.05158</td>\n",
              "      <td>721.89411</td>\n",
              "      <td>272.95961</td>\n",
              "      <td>0.000000</td>\n",
              "    </tr>\n",
              "    <tr>\n",
              "      <th>1</th>\n",
              "      <td>1766</td>\n",
              "      <td>277.83880</td>\n",
              "      <td>278.10615</td>\n",
              "      <td>722.25570</td>\n",
              "      <td>272.97121</td>\n",
              "      <td>0.126027</td>\n",
              "    </tr>\n",
              "    <tr>\n",
              "      <th>2</th>\n",
              "      <td>1767</td>\n",
              "      <td>278.69351</td>\n",
              "      <td>278.22039</td>\n",
              "      <td>722.97082</td>\n",
              "      <td>272.99419</td>\n",
              "      <td>0.273031</td>\n",
              "    </tr>\n",
              "    <tr>\n",
              "      <th>3</th>\n",
              "      <td>1768</td>\n",
              "      <td>278.74752</td>\n",
              "      <td>278.34305</td>\n",
              "      <td>723.66792</td>\n",
              "      <td>273.01678</td>\n",
              "      <td>0.278871</td>\n",
              "    </tr>\n",
              "    <tr>\n",
              "      <th>4</th>\n",
              "      <td>1769</td>\n",
              "      <td>278.79644</td>\n",
              "      <td>278.47058</td>\n",
              "      <td>724.34313</td>\n",
              "      <td>273.03903</td>\n",
              "      <td>0.242045</td>\n",
              "    </tr>\n",
              "  </tbody>\n",
              "</table>\n",
              "</div>"
            ],
            "text/plain": [
              "   Years      CO2EQ        CO2        CH4        N2O        RF\n",
              "0   1765  277.01467  278.05158  721.89411  272.95961  0.000000\n",
              "1   1766  277.83880  278.10615  722.25570  272.97121  0.126027\n",
              "2   1767  278.69351  278.22039  722.97082  272.99419  0.273031\n",
              "3   1768  278.74752  278.34305  723.66792  273.01678  0.278871\n",
              "4   1769  278.79644  278.47058  724.34313  273.03903  0.242045"
            ]
          },
          "metadata": {
            "tags": []
          },
          "execution_count": 3
        }
      ]
    },
    {
      "cell_type": "code",
      "metadata": {
        "id": "BcgvpfuT9ByH",
        "colab": {
          "base_uri": "https://localhost:8080/",
          "height": 269
        },
        "outputId": "9f2e96d6-3119-4295-9c36-251c45d8d5cb"
      },
      "source": [
        "# Visualizing the data\n",
        "\n",
        "plot_cols = ['CO2EQ', 'CO2', 'CH4', 'N2O','RF']\n",
        "plot_features = df[plot_cols]\n",
        "plot_features.index = df['Years']\n",
        "_ = plot_features.plot(subplots=True)"
      ],
      "execution_count": null,
      "outputs": [
        {
          "output_type": "display_data",
          "data": {
            "image/png": "[encoded data removed]",
            "text/plain": [
              "<Figure size 432x288 with 5 Axes>"
            ]
          },
          "metadata": {
            "tags": [],
            "needs_background": "light"
          }
        }
      ]
    },
    {
      "cell_type": "code",
      "metadata": {
        "id": "7Esh89owcMP4"
      },
      "source": [
        "# Splitting the dataframe into Training and Validation dataframes\n",
        "\n",
        "column_indices = {name: i for i, name in enumerate(df.columns)}\n",
        "\n",
        "n = len(df)\n",
        "train_df = df[0:int(n*0.7)]\n",
        "val_df = df[int(n*0.7):int(n*0.9)]\n",
        "test_df = df[int(n*0.9):int(n)]\n",
        "num_features = df.shape[1]"
      ],
      "execution_count": null,
      "outputs": []
    },
    {
      "cell_type": "code",
      "metadata": {
        "colab": {
          "base_uri": "https://localhost:8080/"
        },
        "id": "Aj67X30SPe0x",
        "outputId": "c5d1bd9c-2a3f-4000-ed16-7adc3b4bcf1d"
      },
      "source": [
        "# check shape of training and validation dataframes\n",
        "\n",
        "print(train_df.shape)\n",
        "print(val_df.shape)\n",
        "print(test_df.shape)"
      ],
      "execution_count": null,
      "outputs": [
        {
          "output_type": "stream",
          "text": [
            "(515, 6)\n",
            "(147, 6)\n",
            "(74, 6)\n"
          ],
          "name": "stdout"
        }
      ]
    },
    {
      "cell_type": "code",
      "metadata": {
        "id": "D01Zuif5PsU6"
      },
      "source": [
        "# Normalizing the training data between 0 and 1 using minmaxscaler from keras\n",
        "\n",
        "scaler = MinMaxScaler(feature_range=(0,1))\n",
        "train = scaler.fit_transform(train_df)\n",
        "val = scaler.transform(val_df)\n",
        "test = scaler.transform(test_df)"
      ],
      "execution_count": null,
      "outputs": []
    },
    {
      "cell_type": "code",
      "metadata": {
        "id": "1GM_4mXAQEnK"
      },
      "source": [
        "# split data into input features and targets\n",
        "\n",
        "train_x, train_y = train[:,:-1], train[:,-1]\n",
        "val_x, val_y = val[:,:-1], val[:,-1]\n",
        "test_x, test_y = test[:,:-1], test[:,-1]"
      ],
      "execution_count": null,
      "outputs": []
    },
    {
      "cell_type": "code",
      "metadata": {
        "colab": {
          "base_uri": "https://localhost:8080/"
        },
        "id": "SvXYbOJAQ6BA",
        "outputId": "2566489f-396d-4724-8c83-966a6e0bc695"
      },
      "source": [
        "# reshape train_x and test_x for the model\n",
        "\n",
        "train_x = train_x.reshape((train_x.shape[0], 1, train_x.shape[1]))\n",
        "val_x = val_x.reshape((val_x.shape[0], 1, val_x.shape[1]))\n",
        "test_x = test_x.reshape((test_x.shape[0], 1, test_x.shape[1]))\n",
        "print(train_x.shape, train_y.shape, val_x.shape, val_y.shape, test_x.shape, test_y.shape)"
      ],
      "execution_count": null,
      "outputs": [
        {
          "output_type": "stream",
          "text": [
            "(515, 1, 5) (515,) (147, 1, 5) (147,) (74, 1, 5) (74,)\n"
          ],
          "name": "stdout"
        }
      ]
    },
    {
      "cell_type": "code",
      "metadata": {
        "id": "gdzRHF9YUrmE",
        "colab": {
          "base_uri": "https://localhost:8080/"
        },
        "outputId": "44374bb0-834f-442c-94c6-376db744d0d8"
      },
      "source": [
        "# building the LSTM model using keras\n",
        "\n",
        "def build_model(train_x):\n",
        "    inputs = keras.layers.Input(shape = (train_x.shape[1], train_x.shape[2]))\n",
        "    x = keras.layers.LSTM(50,return_sequences =  True)(inputs)\n",
        "    x = keras.layers.Dropout(0.3)(x)\n",
        "    x = keras.layers.LSTM(50, return_sequences = True)(x)\n",
        "    x = keras.layers.Dropout(0.3)(x)\n",
        "    x = keras.layers.LSTM(50)(x)\n",
        "    outputs = keras.layers.Dense(1, activation = 'linear')(x)\n",
        "\n",
        "    model = keras.Model(inputs = inputs, outputs = outputs)\n",
        "    model.compile(optimizer = 'adam', loss = \"mae\")\n",
        "    return model\n",
        "\n",
        "model = build_model(train_x)\n",
        "model.summary()"
      ],
      "execution_count": null,
      "outputs": [
        {
          "output_type": "stream",
          "text": [
            "Model: \"model\"\n",
            "_________________________________________________________________\n",
            "Layer (type)                 Output Shape              Param #   \n",
            "=================================================================\n",
            "input_1 (InputLayer)         [(None, 1, 5)]            0         \n",
            "_________________________________________________________________\n",
            "lstm (LSTM)                  (None, 1, 50)             11200     \n",
            "_________________________________________________________________\n",
            "dropout (Dropout)            (None, 1, 50)             0         \n",
            "_________________________________________________________________\n",
            "lstm_1 (LSTM)                (None, 1, 50)             20200     \n",
            "_________________________________________________________________\n",
            "dropout_1 (Dropout)          (None, 1, 50)             0         \n",
            "_________________________________________________________________\n",
            "lstm_2 (LSTM)                (None, 50)                20200     \n",
            "_________________________________________________________________\n",
            "dense (Dense)                (None, 1)                 51        \n",
            "=================================================================\n",
            "Total params: 51,651\n",
            "Trainable params: 51,651\n",
            "Non-trainable params: 0\n",
            "_________________________________________________________________\n"
          ],
          "name": "stdout"
        }
      ]
    },
    {
      "cell_type": "code",
      "metadata": {
        "id": "DoV7il8ZVFYY",
        "colab": {
          "base_uri": "https://localhost:8080/"
        },
        "outputId": "74ab1eb2-3731-463d-91fe-b09bcb60ddda"
      },
      "source": [
        "# fitting the model with model.fit without shuffling\n",
        "\n",
        "process = model.fit(train_x, train_y, epochs = 50, batch_size = 72, validation_data = (val_x, val_y), shuffle = False)"
      ],
      "execution_count": null,
      "outputs": [
        {
          "output_type": "stream",
          "text": [
            "Epoch 1/50\n",
            "8/8 [==============================] - 6s 169ms/step - loss: 0.6278 - val_loss: 0.9549\n",
            "Epoch 2/50\n",
            "8/8 [==============================] - 0s 10ms/step - loss: 0.5923 - val_loss: 0.9041\n",
            "Epoch 3/50\n",
            "8/8 [==============================] - 0s 9ms/step - loss: 0.5442 - val_loss: 0.8266\n",
            "Epoch 4/50\n",
            "8/8 [==============================] - 0s 9ms/step - loss: 0.4737 - val_loss: 0.6953\n",
            "Epoch 5/50\n",
            "8/8 [==============================] - 0s 10ms/step - loss: 0.3543 - val_loss: 0.4572\n",
            "Epoch 6/50\n",
            "8/8 [==============================] - 0s 9ms/step - loss: 0.1599 - val_loss: 0.0207\n",
            "Epoch 7/50\n",
            "8/8 [==============================] - 0s 10ms/step - loss: 0.1265 - val_loss: 0.1396\n",
            "Epoch 8/50\n",
            "8/8 [==============================] - 0s 13ms/step - loss: 0.0943 - val_loss: 0.0529\n",
            "Epoch 9/50\n",
            "8/8 [==============================] - 0s 10ms/step - loss: 0.0887 - val_loss: 0.0208\n",
            "Epoch 10/50\n",
            "8/8 [==============================] - 0s 10ms/step - loss: 0.0712 - val_loss: 0.0593\n",
            "Epoch 11/50\n",
            "8/8 [==============================] - 0s 10ms/step - loss: 0.0700 - val_loss: 0.0481\n",
            "Epoch 12/50\n",
            "8/8 [==============================] - 0s 10ms/step - loss: 0.0680 - val_loss: 0.0321\n",
            "Epoch 13/50\n",
            "8/8 [==============================] - 0s 9ms/step - loss: 0.0697 - val_loss: 0.0588\n",
            "Epoch 14/50\n",
            "8/8 [==============================] - 0s 11ms/step - loss: 0.0677 - val_loss: 0.0519\n",
            "Epoch 15/50\n",
            "8/8 [==============================] - 0s 10ms/step - loss: 0.0640 - val_loss: 0.0372\n",
            "Epoch 16/50\n",
            "8/8 [==============================] - 0s 11ms/step - loss: 0.0629 - val_loss: 0.0505\n",
            "Epoch 17/50\n",
            "8/8 [==============================] - 0s 10ms/step - loss: 0.0652 - val_loss: 0.0478\n",
            "Epoch 18/50\n",
            "8/8 [==============================] - 0s 12ms/step - loss: 0.0635 - val_loss: 0.0485\n",
            "Epoch 19/50\n",
            "8/8 [==============================] - 0s 11ms/step - loss: 0.0680 - val_loss: 0.0331\n",
            "Epoch 20/50\n",
            "8/8 [==============================] - 0s 10ms/step - loss: 0.0696 - val_loss: 0.0483\n",
            "Epoch 21/50\n",
            "8/8 [==============================] - 0s 12ms/step - loss: 0.0644 - val_loss: 0.0350\n",
            "Epoch 22/50\n",
            "8/8 [==============================] - 0s 10ms/step - loss: 0.0680 - val_loss: 0.0598\n",
            "Epoch 23/50\n",
            "8/8 [==============================] - 0s 10ms/step - loss: 0.0676 - val_loss: 0.0658\n",
            "Epoch 24/50\n",
            "8/8 [==============================] - 0s 10ms/step - loss: 0.0649 - val_loss: 0.0179\n",
            "Epoch 25/50\n",
            "8/8 [==============================] - 0s 12ms/step - loss: 0.0612 - val_loss: 0.0552\n",
            "Epoch 26/50\n",
            "8/8 [==============================] - 0s 10ms/step - loss: 0.0570 - val_loss: 0.0228\n",
            "Epoch 27/50\n",
            "8/8 [==============================] - 0s 12ms/step - loss: 0.0676 - val_loss: 0.0242\n",
            "Epoch 28/50\n",
            "8/8 [==============================] - 0s 11ms/step - loss: 0.0609 - val_loss: 0.0529\n",
            "Epoch 29/50\n",
            "8/8 [==============================] - 0s 9ms/step - loss: 0.0665 - val_loss: 0.0113\n",
            "Epoch 30/50\n",
            "8/8 [==============================] - 0s 10ms/step - loss: 0.0596 - val_loss: 0.0539\n",
            "Epoch 31/50\n",
            "8/8 [==============================] - 0s 9ms/step - loss: 0.0612 - val_loss: 0.0396\n",
            "Epoch 32/50\n",
            "8/8 [==============================] - 0s 9ms/step - loss: 0.0631 - val_loss: 0.0152\n",
            "Epoch 33/50\n",
            "8/8 [==============================] - 0s 9ms/step - loss: 0.0592 - val_loss: 0.0614\n",
            "Epoch 34/50\n",
            "8/8 [==============================] - 0s 9ms/step - loss: 0.0588 - val_loss: 0.0547\n",
            "Epoch 35/50\n",
            "8/8 [==============================] - 0s 9ms/step - loss: 0.0568 - val_loss: 0.0496\n",
            "Epoch 36/50\n",
            "8/8 [==============================] - 0s 10ms/step - loss: 0.0563 - val_loss: 0.0407\n",
            "Epoch 37/50\n",
            "8/8 [==============================] - 0s 11ms/step - loss: 0.0551 - val_loss: 0.0421\n",
            "Epoch 38/50\n",
            "8/8 [==============================] - 0s 11ms/step - loss: 0.0546 - val_loss: 0.0335\n",
            "Epoch 39/50\n",
            "8/8 [==============================] - 0s 9ms/step - loss: 0.0523 - val_loss: 0.0268\n",
            "Epoch 40/50\n",
            "8/8 [==============================] - 0s 12ms/step - loss: 0.0558 - val_loss: 0.0441\n",
            "Epoch 41/50\n",
            "8/8 [==============================] - 0s 14ms/step - loss: 0.0530 - val_loss: 0.0278\n",
            "Epoch 42/50\n",
            "8/8 [==============================] - 0s 10ms/step - loss: 0.0546 - val_loss: 0.0525\n",
            "Epoch 43/50\n",
            "8/8 [==============================] - 0s 12ms/step - loss: 0.0528 - val_loss: 0.0386\n",
            "Epoch 44/50\n",
            "8/8 [==============================] - 0s 11ms/step - loss: 0.0510 - val_loss: 0.0349\n",
            "Epoch 45/50\n",
            "8/8 [==============================] - 0s 9ms/step - loss: 0.0508 - val_loss: 0.0177\n",
            "Epoch 46/50\n",
            "8/8 [==============================] - 0s 11ms/step - loss: 0.0552 - val_loss: 0.0174\n",
            "Epoch 47/50\n",
            "8/8 [==============================] - 0s 10ms/step - loss: 0.0492 - val_loss: 0.0204\n",
            "Epoch 48/50\n",
            "8/8 [==============================] - 0s 9ms/step - loss: 0.0533 - val_loss: 0.0067\n",
            "Epoch 49/50\n",
            "8/8 [==============================] - 0s 11ms/step - loss: 0.0483 - val_loss: 0.0329\n",
            "Epoch 50/50\n",
            "8/8 [==============================] - 0s 10ms/step - loss: 0.0473 - val_loss: 0.0228\n"
          ],
          "name": "stdout"
        }
      ]
    },
    {
      "cell_type": "code",
      "metadata": {
        "id": "TqXNf0foVOp9",
        "colab": {
          "base_uri": "https://localhost:8080/",
          "height": 269
        },
        "outputId": "b304c70c-b24f-415b-cd11-0580b3aa7499"
      },
      "source": [
        "# plotting the loss and validation loss against epochs\n",
        "\n",
        "def plot_process(process):\n",
        "    plt.plot(process.history['loss'], label='train')\n",
        "    plt.plot(process.history['val_loss'], label='validation')\n",
        "    plt.grid()\n",
        "    plt.legend()\n",
        "    plt.show()\n",
        "\n",
        "plot_process(process)"
      ],
      "execution_count": null,
      "outputs": [
        {
          "output_type": "display_data",
          "data": {
            "image/png": "[encoded data removed]",
            "text/plain": [
              "<Figure size 432x288 with 1 Axes>"
            ]
          },
          "metadata": {
            "tags": [],
            "needs_background": "light"
          }
        }
      ]
    },
    {
      "cell_type": "code",
      "metadata": {
        "id": "fitPz_01Vj1K"
      },
      "source": [
        "def prediction(model,test_x,train_x, df):\n",
        "    # Predict using the model\n",
        "    predict =  model.predict(test_x)\n",
        "\n",
        "    # Reshape test_x and train_x for visualization  and inverse-scaling purpose\n",
        "    test_x = test_x.reshape((test_x.shape[0], test_x.shape[2]))\n",
        "    train_x = train_x.reshape((train_x.shape[0], train_x.shape[2]))\n",
        "\n",
        "    # Concatenate test_x with predicted value\n",
        "    predict_ = np.concatenate((test_x, predict),axis = 1)\n",
        "\n",
        "    # Inverse-scaling to get the real values\n",
        "    predict_ = scaler.inverse_transform(predict_)\n",
        "    original_ = scaler.inverse_transform(test)\n",
        "\n",
        "    # Create dataframe to store the predicted and original values\n",
        "    pred = pd.DataFrame()\n",
        "    pred['Years'] = df['Years'][-test_x.shape[0]:]\n",
        "    pred['Original'] = original_[:,-1]\n",
        "    pred['Predicted'] = predict_[:,-1]\n",
        "\n",
        "    # Calculate the error \n",
        "    pred['Error'] = pred['Original'] - pred['Predicted']\n",
        "    \n",
        "    # Create dataframe for visualization\n",
        "    df = df[['Years','RF']][:-test_x.shape[0]]\n",
        "    df.columns = ['Years','Original']\n",
        "    original = df.append(pred[['Years','Original']])\n",
        "    df.columns = ['Years','Predicted']\n",
        "    predicted = df.append(pred[['Years','Predicted']])\n",
        "    original = original.merge(predicted, left_on = 'Years',right_on = 'Years')\n",
        "    return pred, original\n",
        "\n",
        "pred, original = prediction(model, test_x, train_x, df)"
      ],
      "execution_count": null,
      "outputs": []
    },
    {
      "cell_type": "code",
      "metadata": {
        "id": "3EoJkTwtaAia",
        "colab": {
          "base_uri": "https://localhost:8080/",
          "height": 542
        },
        "outputId": "f15243e2-14bc-4811-baf1-e94defd123be"
      },
      "source": [
        "def plot(df):\n",
        "    # Plotting the Current and Predicted values\n",
        "    fig = px.line(title = 'Prediction vs. Actual')\n",
        "    fig.add_scatter(x = df['Years'], y = df['Original'], name = 'Original', opacity = 0.7)\n",
        "    fig.add_scatter(x = df['Years'], y = df['Predicted'], name = 'Predicted', opacity = 0.5)\n",
        "    fig.show()\n",
        "    \n",
        "plot(original)"
      ],
      "execution_count": null,
      "outputs": [
        {
          "output_type": "display_data",
          "data": {
            "text/html": [
              "<html>\n",
              "<head><meta charset=\"utf-8\" /></head>\n",
              "<body>\n",
              "    <div>\n",
              "            <script src=\"https://cdnjs.cloudflare.com/ajax/libs/mathjax/2.7.5/MathJax.js?config=TeX-AMS-MML_SVG\"></script><script type=\"text/javascript\">if (window.MathJax) {MathJax.Hub.Config({SVG: {font: \"STIX-Web\"}});}</script>\n",
              "                <script type=\"text/javascript\">window.PlotlyConfig = {MathJaxConfig: 'local'};</script>\n",
              "        <script src=\"https://cdn.plot.ly/plotly-latest.min.js\"></script>    \n",
              "            <div id=\"a90e937d-3894-437a-a6e8-174eeacd06c7\" class=\"plotly-graph-div\" style=\"height:525px; width:100%;\"></div>\n",
              "            <script type=\"text/javascript\">\n",
              "                \n",
              "                    window.PLOTLYENV=window.PLOTLYENV || {};\n",
              "                    \n",
              "                if (document.getElementById(\"a90e937d-3894-437a-a6e8-174eeacd06c7\")) {\n",
              "                    Plotly.newPlot(\n",
              "                        'a90e937d-3894-437a-a6e8-174eeacd06c7',\n",
              "                        [{\"name\": \"Original\", \"opacity\": 0.7, \"type\": \"scatter\", \"x\": [1765, 1766, 1767, 1768, 1769, 1770, 1771, 1772, 1773, 1774, 1775, 1776, 1777, 1778, 1779, 1780, 1781, 1782, 1783, 1784, 1785, 1786, 1787, 1788, 1789, 1790, 1791, 1792, 1793, 1794, 1795, 1796, 1797, 1798, 1799, 1800, 1801, 1802, 1803, 1804, 1805, 1806, 1807, 1808, 1809, 1810, 1811, 1812, 1813, 1814, 1815, 1816, 1817, 1818, 1819, 1820, 1821, 1822, 1823, 1824, 1825, 1826, 1827, 1828, 1829, 1830, 1831, 1832, 1833, 1834, 1835, 1836, 1837, 1838, 1839, 1840, 1841, 1842, 1843, 1844, 1845, 1846, 1847, 1848, 1849, 1850, 1851, 1852, 1853, 1854, 1855, 1856, 1857, 1858, 1859, 1860, 1861, 1862, 1863, 1864, 1865, 1866, 1867, 1868, 1869, 1870, 1871, 1872, 1873, 1874, 1875, 1876, 1877, 1878, 1879, 1880, 1881, 1882, 1883, 1884, 1885, 1886, 1887, 1888, 1889, 1890, 1891, 1892, 1893, 1894, 1895, 1896, 1897, 1898, 1899, 1900, 1901, 1902, 1903, 1904, 1905, 1906, 1907, 1908, 1909, 1910, 1911, 1912, 1913, 1914, 1915, 1916, 1917, 1918, 1919, 1920, 1921, 1922, 1923, 1924, 1925, 1926, 1927, 1928, 1929, 1930, 1931, 1932, 1933, 1934, 1935, 1936, 1937, 1938, 1939, 1940, 1941, 1942, 1943, 1944, 1945, 1946, 1947, 1948, 1949, 1950, 1951, 1952, 1953, 1954, 1955, 1956, 1957, 1958, 1959, 1960, 1961, 1962, 1963, 1964, 1965, 1966, 1967, 1968, 1969, 1970, 1971, 1972, 1973, 1974, 1975, 1976, 1977, 1978, 1979, 1980, 1981, 1982, 1983, 1984, 1985, 1986, 1987, 1988, 1989, 1990, 1991, 1992, 1993, 1994, 1995, 1996, 1997, 1998, 1999, 2000, 2001, 2002, 2003, 2004, 2005, 2006, 2007, 2008, 2009, 2010, 2011, 2012, 2013, 2014, 2015, 2016, 2017, 2018, 2019, 2020, 2021, 2022, 2023, 2024, 2025, 2026, 2027, 2028, 2029, 2030, 2031, 2032, 2033, 2034, 2035, 2036, 2037, 2038, 2039, 2040, 2041, 2042, 2043, 2044, 2045, 2046, 2047, 2048, 2049, 2050, 2051, 2052, 2053, 2054, 2055, 2056, 2057, 2058, 2059, 2060, 2061, 2062, 2063, 2064, 2065, 2066, 2067, 2068, 2069, 2070, 2071, 2072, 2073, 2074, 2075, 2076, 2077, 2078, 2079, 2080, 2081, 2082, 2083, 2084, 2085, 2086, 2087, 2088, 2089, 2090, 2091, 2092, 2093, 2094, 2095, 2096, 2097, 2098, 2099, 2100, 2101, 2102, 2103, 2104, 2105, 2106, 2107, 2108, 2109, 2110, 2111, 2112, 2113, 2114, 2115, 2116, 2117, 2118, 2119, 2120, 2121, 2122, 2123, 2124, 2125, 2126, 2127, 2128, 2129, 2130, 2131, 2132, 2133, 2134, 2135, 2136, 2137, 2138, 2139, 2140, 2141, 2142, 2143, 2144, 2145, 2146, 2147, 2148, 2149, 2150, 2151, 2152, 2153, 2154, 2155, 2156, 2157, 2158, 2159, 2160, 2161, 2162, 2163, 2164, 2165, 2166, 2167, 2168, 2169, 2170, 2171, 2172, 2173, 2174, 2175, 2176, 2177, 2178, 2179, 2180, 2181, 2182, 2183, 2184, 2185, 2186, 2187, 2188, 2189, 2190, 2191, 2192, 2193, 2194, 2195, 2196, 2197, 2198, 2199, 2200, 2201, 2202, 2203, 2204, 2205, 2206, 2207, 2208, 2209, 2210, 2211, 2212, 2213, 2214, 2215, 2216, 2217, 2218, 2219, 2220, 2221, 2222, 2223, 2224, 2225, 2226, 2227, 2228, 2229, 2230, 2231, 2232, 2233, 2234, 2235, 2236, 2237, 2238, 2239, 2240, 2241, 2242, 2243, 2244, 2245, 2246, 2247, 2248, 2249, 2250, 2251, 2252, 2253, 2254, 2255, 2256, 2257, 2258, 2259, 2260, 2261, 2262, 2263, 2264, 2265, 2266, 2267, 2268, 2269, 2270, 2271, 2272, 2273, 2274, 2275, 2276, 2277, 2278, 2279, 2280, 2281, 2282, 2283, 2284, 2285, 2286, 2287, 2288, 2289, 2290, 2291, 2292, 2293, 2294, 2295, 2296, 2297, 2298, 2299, 2300, 2301, 2302, 2303, 2304, 2305, 2306, 2307, 2308, 2309, 2310, 2311, 2312, 2313, 2314, 2315, 2316, 2317, 2318, 2319, 2320, 2321, 2322, 2323, 2324, 2325, 2326, 2327, 2328, 2329, 2330, 2331, 2332, 2333, 2334, 2335, 2336, 2337, 2338, 2339, 2340, 2341, 2342, 2343, 2344, 2345, 2346, 2347, 2348, 2349, 2350, 2351, 2352, 2353, 2354, 2355, 2356, 2357, 2358, 2359, 2360, 2361, 2362, 2363, 2364, 2365, 2366, 2367, 2368, 2369, 2370, 2371, 2372, 2373, 2374, 2375, 2376, 2377, 2378, 2379, 2380, 2381, 2382, 2383, 2384, 2385, 2386, 2387, 2388, 2389, 2390, 2391, 2392, 2393, 2394, 2395, 2396, 2397, 2398, 2399, 2400, 2401, 2402, 2403, 2404, 2405, 2406, 2407, 2408, 2409, 2410, 2411, 2412, 2413, 2414, 2415, 2416, 2417, 2418, 2419, 2420, 2421, 2422, 2423, 2424, 2425, 2426, 2427, 2428, 2429, 2430, 2431, 2432, 2433, 2434, 2435, 2436, 2437, 2438, 2439, 2440, 2441, 2442, 2443, 2444, 2445, 2446, 2447, 2448, 2449, 2450, 2451, 2452, 2453, 2454, 2455, 2456, 2457, 2458, 2459, 2460, 2461, 2462, 2463, 2464, 2465, 2466, 2467, 2468, 2469, 2470, 2471, 2472, 2473, 2474, 2475, 2476, 2477, 2478, 2479, 2480, 2481, 2482, 2483, 2484, 2485, 2486, 2487, 2488, 2489, 2490, 2491, 2492, 2493, 2494, 2495, 2496, 2497, 2498, 2499, 2500], \"y\": [0.0, 0.12602655, 0.27303147, 0.27887064, 0.24204524, 0.24282439, 0.28414227, 0.29985709, 0.29075585, 0.27809954, 0.26883905, 0.27685606, 0.30576066, 0.33787519, 0.34758091, 0.34167396, 0.33372182, 0.29101994, 0.17560532, 0.090269194, 0.16245306, 0.28956182, 0.35299901, 0.36176885, 0.25105384, 0.08888224300000001, 0.10802003, 0.23279865, 0.29457518, 0.29173845, 0.25684617, 0.24505257, 0.26205657, 0.27746741, 0.2856347, 0.30345983, 0.3258144, 0.32293762, 0.3082946, 0.30625174, 0.30554894, 0.29656247, 0.28733627, -0.20660893, -1.3501184, -1.7519646, -0.95612856, -0.27918259, -0.077907142, -0.59896164, -2.0619414000000003, -2.5631787999999998, -1.3942302, -0.26564772, 0.18534697, 0.31186677, 0.31898449, 0.32152238, 0.32554213, 0.33373696, 0.34767769, 0.36602933, 0.38537657, 0.39560049, 0.36951757, 0.15158463, -0.24271242, -0.35068953, -0.061975790999999995, -0.21529972, -0.81911312, -0.73506426, -0.12480708, 0.24917938, 0.36350119, 0.34350490000000006, 0.31934023, 0.31997325, 0.29345202, 0.28857789, 0.33883415, 0.39159098, 0.42985878, 0.45891745, 0.44499804, 0.40539615, 0.39862512, 0.40052091, 0.3934753, 0.38414144, 0.24282623, -0.21107251, -0.44449029, -0.09683634099999999, 0.26210904, 0.39070948, 0.35779049, 0.25811439999999997, 0.26390439, 0.33623394, 0.37076405, 0.3750448, 0.37953974, 0.40476502, 0.44070511, 0.46986859999999997, 0.46881912, 0.42277264, 0.36978899, 0.35373474, 0.332461, 0.28830947, 0.29298153, 0.33420941, 0.368246, 0.39995496, 0.42920523, 0.33982025, -0.56353326, -1.3017754, -0.71893884, -0.23580858, -0.11721518, -0.016598936, -0.08450957, -0.12348587, -0.02816829, 0.17145477, 0.34036723, 0.45854671, 0.43496617, 0.26290903, 0.16316606, 0.25869933, 0.36799034, 0.41475781, 0.39849017, -0.041670226, -0.40336913, -0.081701345, 0.28507922, 0.389716, 0.36949981, 0.38664275, 0.45257997, 0.47406745, 0.47502449, 0.23787245, 0.1428922, 0.38792615, 0.54484665, 0.61946613, 0.65507998, 0.66254981, 0.64062566, 0.53860773, 0.51390834, 0.59917404, 0.6188415, 0.62160553, 0.65690052, 0.70124531, 0.72125112, 0.67462867, 0.62401289, 0.65251894, 0.6785285, 0.64515032, 0.65684612, 0.71706368, 0.77329698, 0.83155121, 0.84505011, 0.833606, 0.83751216, 0.84838382, 0.84065291, 0.79637885, 0.77291049, 0.8014979, 0.84012487, 0.87434778, 0.88946972, 0.89886532, 0.87852081, 0.84163896, 0.80135099, 0.76630996, 0.74610376, 0.75480507, 0.81537626, 0.89909856, 0.96679968, 0.98244834, 0.96883259, 0.88020351, 0.75156663, 0.64515114, 0.16205329999999998, -0.18567194, 0.16267508, 0.59334428, 0.76875547, 0.60919867, 0.57531732, 0.84740204, 1.0370201, 1.0974393999999998, 1.0624488, 0.91537051, 0.82176973, 0.97769425, 1.1988288999999999, 1.2758337, 1.3561905, 1.466064, 1.4077614, 0.71477621, 0.40876639, 0.95187721, 1.2513233999999998, 1.3423653, 1.4352832, 1.5760874, 1.7006148, 1.7456356, 0.80674072, 0.18316716, 0.8971375, 1.436801, 1.6412118000000002, 1.7378776999999999, 1.8156668000000002, 1.9242133000000001, 2.0332218999999996, 2.0961904, 2.1279809, 2.1453595, 2.1378986, 2.1258179, 2.0818331000000003, 1.982861, 1.9369348000000002, 1.9639063, 2.0462718, 2.1568101000000004, 2.2303296, 2.2792008999999998, 2.3014952999999996, 2.2952529999999998, 2.2882061, 2.2977981, 2.3173997, 2.3414791, 2.3696331, 2.4515607999999998, 2.5608361, 2.6318123, 2.6775434, 2.6978631, 2.6910353, 2.6844557, 2.6954626, 2.7173342000000003, 2.7444617, 2.7729491000000004, 2.8489562999999998, 2.9494043999999997, 3.0118921000000003, 3.0493504000000002, 3.0616137, 3.0468764999999998, 3.0324909, 3.0357576, 3.0499224, 3.0712011, 3.100516, 3.1847033, 3.2952068, 3.3669654, 3.4134933, 3.4347479, 3.429025, 3.4237572999999997, 3.4362972999999997, 3.4586818, 3.4840818999999996, 3.5129248, 3.5957007000000005, 3.7056327000000007, 3.7770672999999997, 3.8234516000000003, 3.8446974999999997, 3.8390739999999997, 3.8339977999999997, 3.8500655, 3.8838116, 3.9257047999999997, 3.9715126000000005, 4.0710184, 4.1974669, 4.285227900000001, 4.347764, 4.3850050000000005, 4.3952384, 4.404396299999999, 4.4283231, 4.4615844000000004, 4.4997371, 4.5417769, 4.6369182, 4.7584158, 4.8406451, 4.897074400000001, 4.9276489, 4.929019, 4.9269926, 4.939793099999999, 4.9612209, 4.9853999, 5.011565900000001, 5.0890252, 5.1911078, 5.252259400000001, 5.2860017, 5.2924545, 5.270109400000001, 5.2472212, 5.2418922, 5.2473573, 5.2579765, 5.2728227, 5.3410529, 5.4359568, 5.4919804, 5.5219242, 5.5250387000000005, 5.5006875, 5.4768517, 5.4703312, 5.4743723, 5.4833222, 5.4962434, 5.562281700000001, 5.6546314, 5.7076056, 5.7346085, 5.735549, 5.7087115, 5.6815280999999995, 5.6713642, 5.6715072, 5.676337, 5.6849447, 5.7465019, 5.834226, 5.882446900000001, 5.9045847, 5.900567700000001, 5.868696, 5.8364124, 5.821089700000001, 5.8160346, 5.8156464, 5.8190218, 5.875337200000001, 5.9578137, 6.000783, 6.0176674000000006, 6.0083995, 5.9712836, 5.9337691, 5.9132373, 5.902987, 5.8974060999999995, 5.8955922, 5.9467224000000005, 6.0240175, 6.0618062, 6.073513200000001, 6.059073400000001, 6.01679, 5.9741151, 5.948429900000001, 5.9661767, 5.9938379, 5.9938379, 5.9938379, 5.9938379, 5.9938379, 5.9938379, 5.9938379, 5.9938379, 5.9938379, 5.9938379, 5.9938379, 5.9938379, 5.9938379, 5.9938379, 5.9938379, 5.9938379, 5.9938379, 5.9938379, 5.9938379, 5.9938379, 5.9938379, 5.9938379, 5.9938379, 5.9938379, 5.9938379, 5.9938379, 5.9938379, 5.9938379, 5.9938379, 5.9938379, 5.9938379, 5.9938379, 5.9938379, 5.9938379, 5.9938379, 5.9938379, 5.9938379, 5.9938379, 5.9938379, 5.9938379, 5.9938379, 5.9938379, 5.9938379, 5.9938379, 5.9938379, 5.9938379, 5.9938379, 5.9938379, 5.9938379, 5.9938379, 5.9938379, 5.9938379, 5.9938379, 5.9938379, 5.9938379, 5.9938379, 5.9938379, 5.9938379, 5.9938379, 5.9938379, 5.9938379, 5.9938379, 5.9938379, 5.9938379, 5.9938379, 5.9938379, 5.9938379, 5.9938379, 5.9938379, 5.9938379, 5.9938379, 5.9938379, 5.9938379, 5.9938379, 5.9938379, 5.9938379, 5.9938379, 5.9938379, 5.9938379, 5.9938379, 5.9938379, 5.9938379, 5.9938379, 5.9938379, 5.9938379, 5.9938379, 5.9938379, 5.9938379, 5.9938379, 5.9938379, 5.9938379, 5.9938379, 5.9938379, 5.9938379, 5.9938379, 5.9938379, 5.9938379, 5.9938379, 5.9938379, 5.9938379, 5.9938379, 5.9938379, 5.9938379, 5.9938379, 5.9938379, 5.9938379, 5.9938379, 5.9938379, 5.9938379, 5.9938379, 5.9938379, 5.9938379, 5.9938379, 5.9938379, 5.9938379, 5.9938379, 5.9938379, 5.9938379, 5.9938379, 5.9938379, 5.9938379, 5.9938379, 5.9938379, 5.9938379, 5.9938379, 5.9938379, 5.9938379, 5.9938379, 5.9938379, 5.9938379, 5.9938379, 5.9938379, 5.9938379, 5.9938379, 5.9938379, 5.9938379, 5.9938379, 5.9938379, 5.9938379, 5.9938379, 5.9938379, 5.9938379, 5.9938379, 5.9938379, 5.9938379, 5.9938379, 5.9938379, 5.9938379, 5.9938379, 5.9938379, 5.9938379, 5.9938379, 5.9938379, 5.9938379, 5.9938379, 5.9938379, 5.9938379, 5.9938379, 5.9938379, 5.9938379, 5.9938379, 5.9938379, 5.9938379, 5.9938379, 5.9938379, 5.9938379, 5.9938379, 5.9938379, 5.9938379, 5.9938379, 5.9938379, 5.9938379, 5.9938379, 5.9938379, 5.9938379, 5.9938379, 5.9938379, 5.9938379, 5.9938379, 5.9938379, 5.9938379, 5.9938379, 5.9938379, 5.9938379, 5.9938379, 5.9938379, 5.9938379, 5.9938379, 5.9938379, 5.9938379, 5.9938379, 5.9938379, 5.9938379, 5.9938379, 5.9938379, 5.9938379, 5.9938379, 5.9938379, 5.9938379, 5.9938379, 5.9938379, 5.9938379, 5.9938379, 5.9938379, 5.9938379, 5.9938379, 5.9938379, 5.9938379, 5.9938379, 5.9938379, 5.9938379, 5.9938379, 5.9938379, 5.9938379, 5.9938379, 5.9938379, 5.9938379, 5.9938379, 5.9938379, 5.9938379, 5.9938379, 5.9938379, 5.9938379, 5.9938379, 5.9938379, 5.9938379, 5.9938379, 5.9938379, 5.9938379, 5.9938379, 5.9938379, 5.9938379, 5.9938379, 5.9938379, 5.9938379, 5.9938379, 5.9938379, 5.9938379, 5.9938379, 5.9938379, 5.9938379, 5.9938379, 5.9938379, 5.9938379, 5.9938379, 5.9938379, 5.9938379, 5.9938379, 5.9938379, 5.9938379, 5.9938379, 5.9938379, 5.9938379, 5.9938379, 5.9938379, 5.9938379, 5.9938379, 5.9938379, 5.9938379, 5.9938379, 5.9938379, 5.9938379, 5.9938379, 5.9938379, 5.9938379, 5.9938379, 5.9938379, 5.9938379, 5.9938379, 5.9938379, 5.9938379, 5.9938379, 5.9938379, 5.9938379, 5.9938379, 5.9938379, 5.9938379, 5.9938379, 5.9938379, 5.9938379, 5.9938379, 5.9938379, 5.9938379, 5.9938379, 5.9938379, 5.9938379, 5.9938379, 5.9938379, 5.9938379, 5.9938379, 5.9938379, 5.9938379, 5.9938379, 5.9938379, 5.9938379, 5.9938379, 5.9938379, 5.9938379, 5.9938379, 5.9938379, 5.9938379, 5.9938379, 5.9938379, 5.9938379, 5.9938379, 5.9938379, 5.9938379, 5.9938379, 5.9938379, 5.9938379, 5.9938379, 5.9938379, 5.9938379, 5.9938379, 5.9938379, 5.9938379, 5.9938379, 5.9938379, 5.9938379, 5.9938379, 5.9938379, 5.9938379, 5.9938379, 5.9938379, 5.9938379, 5.9938379, 5.9938379, 5.9938379, 5.9938379, 5.9938379, 5.9938379, 5.9938379, 5.9938379, 5.9938379, 5.9938379, 5.9938379, 5.9938379, 5.9938379, 5.9938379, 5.9938379, 5.9938379, 5.9938379, 5.9938379, 5.9938379, 5.9938379, 5.9938379, 5.9938379, 5.9938379, 5.9938379, 5.9938379, 5.9938379]}, {\"name\": \"Predicted\", \"opacity\": 0.5, \"type\": \"scatter\", \"x\": [1765, 1766, 1767, 1768, 1769, 1770, 1771, 1772, 1773, 1774, 1775, 1776, 1777, 1778, 1779, 1780, 1781, 1782, 1783, 1784, 1785, 1786, 1787, 1788, 1789, 1790, 1791, 1792, 1793, 1794, 1795, 1796, 1797, 1798, 1799, 1800, 1801, 1802, 1803, 1804, 1805, 1806, 1807, 1808, 1809, 1810, 1811, 1812, 1813, 1814, 1815, 1816, 1817, 1818, 1819, 1820, 1821, 1822, 1823, 1824, 1825, 1826, 1827, 1828, 1829, 1830, 1831, 1832, 1833, 1834, 1835, 1836, 1837, 1838, 1839, 1840, 1841, 1842, 1843, 1844, 1845, 1846, 1847, 1848, 1849, 1850, 1851, 1852, 1853, 1854, 1855, 1856, 1857, 1858, 1859, 1860, 1861, 1862, 1863, 1864, 1865, 1866, 1867, 1868, 1869, 1870, 1871, 1872, 1873, 1874, 1875, 1876, 1877, 1878, 1879, 1880, 1881, 1882, 1883, 1884, 1885, 1886, 1887, 1888, 1889, 1890, 1891, 1892, 1893, 1894, 1895, 1896, 1897, 1898, 1899, 1900, 1901, 1902, 1903, 1904, 1905, 1906, 1907, 1908, 1909, 1910, 1911, 1912, 1913, 1914, 1915, 1916, 1917, 1918, 1919, 1920, 1921, 1922, 1923, 1924, 1925, 1926, 1927, 1928, 1929, 1930, 1931, 1932, 1933, 1934, 1935, 1936, 1937, 1938, 1939, 1940, 1941, 1942, 1943, 1944, 1945, 1946, 1947, 1948, 1949, 1950, 1951, 1952, 1953, 1954, 1955, 1956, 1957, 1958, 1959, 1960, 1961, 1962, 1963, 1964, 1965, 1966, 1967, 1968, 1969, 1970, 1971, 1972, 1973, 1974, 1975, 1976, 1977, 1978, 1979, 1980, 1981, 1982, 1983, 1984, 1985, 1986, 1987, 1988, 1989, 1990, 1991, 1992, 1993, 1994, 1995, 1996, 1997, 1998, 1999, 2000, 2001, 2002, 2003, 2004, 2005, 2006, 2007, 2008, 2009, 2010, 2011, 2012, 2013, 2014, 2015, 2016, 2017, 2018, 2019, 2020, 2021, 2022, 2023, 2024, 2025, 2026, 2027, 2028, 2029, 2030, 2031, 2032, 2033, 2034, 2035, 2036, 2037, 2038, 2039, 2040, 2041, 2042, 2043, 2044, 2045, 2046, 2047, 2048, 2049, 2050, 2051, 2052, 2053, 2054, 2055, 2056, 2057, 2058, 2059, 2060, 2061, 2062, 2063, 2064, 2065, 2066, 2067, 2068, 2069, 2070, 2071, 2072, 2073, 2074, 2075, 2076, 2077, 2078, 2079, 2080, 2081, 2082, 2083, 2084, 2085, 2086, 2087, 2088, 2089, 2090, 2091, 2092, 2093, 2094, 2095, 2096, 2097, 2098, 2099, 2100, 2101, 2102, 2103, 2104, 2105, 2106, 2107, 2108, 2109, 2110, 2111, 2112, 2113, 2114, 2115, 2116, 2117, 2118, 2119, 2120, 2121, 2122, 2123, 2124, 2125, 2126, 2127, 2128, 2129, 2130, 2131, 2132, 2133, 2134, 2135, 2136, 2137, 2138, 2139, 2140, 2141, 2142, 2143, 2144, 2145, 2146, 2147, 2148, 2149, 2150, 2151, 2152, 2153, 2154, 2155, 2156, 2157, 2158, 2159, 2160, 2161, 2162, 2163, 2164, 2165, 2166, 2167, 2168, 2169, 2170, 2171, 2172, 2173, 2174, 2175, 2176, 2177, 2178, 2179, 2180, 2181, 2182, 2183, 2184, 2185, 2186, 2187, 2188, 2189, 2190, 2191, 2192, 2193, 2194, 2195, 2196, 2197, 2198, 2199, 2200, 2201, 2202, 2203, 2204, 2205, 2206, 2207, 2208, 2209, 2210, 2211, 2212, 2213, 2214, 2215, 2216, 2217, 2218, 2219, 2220, 2221, 2222, 2223, 2224, 2225, 2226, 2227, 2228, 2229, 2230, 2231, 2232, 2233, 2234, 2235, 2236, 2237, 2238, 2239, 2240, 2241, 2242, 2243, 2244, 2245, 2246, 2247, 2248, 2249, 2250, 2251, 2252, 2253, 2254, 2255, 2256, 2257, 2258, 2259, 2260, 2261, 2262, 2263, 2264, 2265, 2266, 2267, 2268, 2269, 2270, 2271, 2272, 2273, 2274, 2275, 2276, 2277, 2278, 2279, 2280, 2281, 2282, 2283, 2284, 2285, 2286, 2287, 2288, 2289, 2290, 2291, 2292, 2293, 2294, 2295, 2296, 2297, 2298, 2299, 2300, 2301, 2302, 2303, 2304, 2305, 2306, 2307, 2308, 2309, 2310, 2311, 2312, 2313, 2314, 2315, 2316, 2317, 2318, 2319, 2320, 2321, 2322, 2323, 2324, 2325, 2326, 2327, 2328, 2329, 2330, 2331, 2332, 2333, 2334, 2335, 2336, 2337, 2338, 2339, 2340, 2341, 2342, 2343, 2344, 2345, 2346, 2347, 2348, 2349, 2350, 2351, 2352, 2353, 2354, 2355, 2356, 2357, 2358, 2359, 2360, 2361, 2362, 2363, 2364, 2365, 2366, 2367, 2368, 2369, 2370, 2371, 2372, 2373, 2374, 2375, 2376, 2377, 2378, 2379, 2380, 2381, 2382, 2383, 2384, 2385, 2386, 2387, 2388, 2389, 2390, 2391, 2392, 2393, 2394, 2395, 2396, 2397, 2398, 2399, 2400, 2401, 2402, 2403, 2404, 2405, 2406, 2407, 2408, 2409, 2410, 2411, 2412, 2413, 2414, 2415, 2416, 2417, 2418, 2419, 2420, 2421, 2422, 2423, 2424, 2425, 2426, 2427, 2428, 2429, 2430, 2431, 2432, 2433, 2434, 2435, 2436, 2437, 2438, 2439, 2440, 2441, 2442, 2443, 2444, 2445, 2446, 2447, 2448, 2449, 2450, 2451, 2452, 2453, 2454, 2455, 2456, 2457, 2458, 2459, 2460, 2461, 2462, 2463, 2464, 2465, 2466, 2467, 2468, 2469, 2470, 2471, 2472, 2473, 2474, 2475, 2476, 2477, 2478, 2479, 2480, 2481, 2482, 2483, 2484, 2485, 2486, 2487, 2488, 2489, 2490, 2491, 2492, 2493, 2494, 2495, 2496, 2497, 2498, 2499, 2500], \"y\": [0.0, 0.12602655, 0.27303147, 0.27887064, 0.24204524, 0.24282439, 0.28414227, 0.29985709, 0.29075585, 0.27809954, 0.26883905, 0.27685606, 0.30576066, 0.33787519, 0.34758091, 0.34167396, 0.33372182, 0.29101994, 0.17560532, 0.090269194, 0.16245306, 0.28956182, 0.35299901, 0.36176885, 0.25105384, 0.08888224300000001, 0.10802003, 0.23279865, 0.29457518, 0.29173845, 0.25684617, 0.24505257, 0.26205657, 0.27746741, 0.2856347, 0.30345983, 0.3258144, 0.32293762, 0.3082946, 0.30625174, 0.30554894, 0.29656247, 0.28733627, -0.20660893, -1.3501184, -1.7519646, -0.95612856, -0.27918259, -0.077907142, -0.59896164, -2.0619414000000003, -2.5631787999999998, -1.3942302, -0.26564772, 0.18534697, 0.31186677, 0.31898449, 0.32152238, 0.32554213, 0.33373696, 0.34767769, 0.36602933, 0.38537657, 0.39560049, 0.36951757, 0.15158463, -0.24271242, -0.35068953, -0.061975790999999995, -0.21529972, -0.81911312, -0.73506426, -0.12480708, 0.24917938, 0.36350119, 0.34350490000000006, 0.31934023, 0.31997325, 0.29345202, 0.28857789, 0.33883415, 0.39159098, 0.42985878, 0.45891745, 0.44499804, 0.40539615, 0.39862512, 0.40052091, 0.3934753, 0.38414144, 0.24282623, -0.21107251, -0.44449029, -0.09683634099999999, 0.26210904, 0.39070948, 0.35779049, 0.25811439999999997, 0.26390439, 0.33623394, 0.37076405, 0.3750448, 0.37953974, 0.40476502, 0.44070511, 0.46986859999999997, 0.46881912, 0.42277264, 0.36978899, 0.35373474, 0.332461, 0.28830947, 0.29298153, 0.33420941, 0.368246, 0.39995496, 0.42920523, 0.33982025, -0.56353326, -1.3017754, -0.71893884, -0.23580858, -0.11721518, -0.016598936, -0.08450957, -0.12348587, -0.02816829, 0.17145477, 0.34036723, 0.45854671, 0.43496617, 0.26290903, 0.16316606, 0.25869933, 0.36799034, 0.41475781, 0.39849017, -0.041670226, -0.40336913, -0.081701345, 0.28507922, 0.389716, 0.36949981, 0.38664275, 0.45257997, 0.47406745, 0.47502449, 0.23787245, 0.1428922, 0.38792615, 0.54484665, 0.61946613, 0.65507998, 0.66254981, 0.64062566, 0.53860773, 0.51390834, 0.59917404, 0.6188415, 0.62160553, 0.65690052, 0.70124531, 0.72125112, 0.67462867, 0.62401289, 0.65251894, 0.6785285, 0.64515032, 0.65684612, 0.71706368, 0.77329698, 0.83155121, 0.84505011, 0.833606, 0.83751216, 0.84838382, 0.84065291, 0.79637885, 0.77291049, 0.8014979, 0.84012487, 0.87434778, 0.88946972, 0.89886532, 0.87852081, 0.84163896, 0.80135099, 0.76630996, 0.74610376, 0.75480507, 0.81537626, 0.89909856, 0.96679968, 0.98244834, 0.96883259, 0.88020351, 0.75156663, 0.64515114, 0.16205329999999998, -0.18567194, 0.16267508, 0.59334428, 0.76875547, 0.60919867, 0.57531732, 0.84740204, 1.0370201, 1.0974393999999998, 1.0624488, 0.91537051, 0.82176973, 0.97769425, 1.1988288999999999, 1.2758337, 1.3561905, 1.466064, 1.4077614, 0.71477621, 0.40876639, 0.95187721, 1.2513233999999998, 1.3423653, 1.4352832, 1.5760874, 1.7006148, 1.7456356, 0.80674072, 0.18316716, 0.8971375, 1.436801, 1.6412118000000002, 1.7378776999999999, 1.8156668000000002, 1.9242133000000001, 2.0332218999999996, 2.0961904, 2.1279809, 2.1453595, 2.1378986, 2.1258179, 2.0818331000000003, 1.982861, 1.9369348000000002, 1.9639063, 2.0462718, 2.1568101000000004, 2.2303296, 2.2792008999999998, 2.3014952999999996, 2.2952529999999998, 2.2882061, 2.2977981, 2.3173997, 2.3414791, 2.3696331, 2.4515607999999998, 2.5608361, 2.6318123, 2.6775434, 2.6978631, 2.6910353, 2.6844557, 2.6954626, 2.7173342000000003, 2.7444617, 2.7729491000000004, 2.8489562999999998, 2.9494043999999997, 3.0118921000000003, 3.0493504000000002, 3.0616137, 3.0468764999999998, 3.0324909, 3.0357576, 3.0499224, 3.0712011, 3.100516, 3.1847033, 3.2952068, 3.3669654, 3.4134933, 3.4347479, 3.429025, 3.4237572999999997, 3.4362972999999997, 3.4586818, 3.4840818999999996, 3.5129248, 3.5957007000000005, 3.7056327000000007, 3.7770672999999997, 3.8234516000000003, 3.8446974999999997, 3.8390739999999997, 3.8339977999999997, 3.8500655, 3.8838116, 3.9257047999999997, 3.9715126000000005, 4.0710184, 4.1974669, 4.285227900000001, 4.347764, 4.3850050000000005, 4.3952384, 4.404396299999999, 4.4283231, 4.4615844000000004, 4.4997371, 4.5417769, 4.6369182, 4.7584158, 4.8406451, 4.897074400000001, 4.9276489, 4.929019, 4.9269926, 4.939793099999999, 4.9612209, 4.9853999, 5.011565900000001, 5.0890252, 5.1911078, 5.252259400000001, 5.2860017, 5.2924545, 5.270109400000001, 5.2472212, 5.2418922, 5.2473573, 5.2579765, 5.2728227, 5.3410529, 5.4359568, 5.4919804, 5.5219242, 5.5250387000000005, 5.5006875, 5.4768517, 5.4703312, 5.4743723, 5.4833222, 5.4962434, 5.562281700000001, 5.6546314, 5.7076056, 5.7346085, 5.735549, 5.7087115, 5.6815280999999995, 5.6713642, 5.6715072, 5.676337, 5.6849447, 5.7465019, 5.834226, 5.882446900000001, 5.9045847, 5.900567700000001, 5.868696, 5.8364124, 5.821089700000001, 5.8160346, 5.8156464, 5.8190218, 5.875337200000001, 5.9578137, 6.000783, 6.0176674000000006, 6.0083995, 5.9712836, 5.9337691, 5.9132373, 5.902987, 5.8974060999999995, 5.8955922, 5.9467224000000005, 6.0240175, 6.0618062, 6.073513200000001, 6.059073400000001, 6.01679, 5.9741151, 5.948429900000001, 5.9661767, 5.9938379, 5.9938379, 5.9938379, 5.9938379, 5.9938379, 5.9938379, 5.9938379, 5.9938379, 5.9938379, 5.9938379, 5.9938379, 5.9938379, 5.9938379, 5.9938379, 5.9938379, 5.9938379, 5.9938379, 5.9938379, 5.9938379, 5.9938379, 5.9938379, 5.9938379, 5.9938379, 5.9938379, 5.9938379, 5.9938379, 5.9938379, 5.9938379, 5.9938379, 5.9938379, 5.9938379, 5.9938379, 5.9938379, 5.9938379, 5.9938379, 5.9938379, 5.9938379, 5.9938379, 5.9938379, 5.9938379, 5.9938379, 5.9938379, 5.9938379, 5.9938379, 5.9938379, 5.9938379, 5.9938379, 5.9938379, 5.9938379, 5.9938379, 5.9938379, 5.9938379, 5.9938379, 5.9938379, 5.9938379, 5.9938379, 5.9938379, 5.9938379, 5.9938379, 5.9938379, 5.9938379, 5.9938379, 5.9938379, 5.9938379, 5.9938379, 5.9938379, 5.9938379, 5.9938379, 5.9938379, 5.9938379, 5.9938379, 5.9938379, 5.9938379, 5.9938379, 5.9938379, 5.9938379, 5.9938379, 5.9938379, 5.9938379, 5.9938379, 5.9938379, 5.9938379, 5.9938379, 5.9938379, 5.9938379, 5.9938379, 5.9938379, 5.9938379, 5.9938379, 5.9938379, 5.9938379, 5.9938379, 5.9938379, 5.9938379, 5.9938379, 5.9938379, 5.9938379, 5.9938379, 5.9938379, 5.9938379, 5.9938379, 5.9938379, 5.9938379, 5.9938379, 5.9938379, 5.9938379, 5.9938379, 5.9938379, 5.9938379, 5.9938379, 5.9938379, 5.9938379, 5.9938379, 5.9938379, 5.9938379, 5.9938379, 5.9938379, 5.9938379, 5.9938379, 5.9938379, 5.9938379, 5.9938379, 5.9938379, 5.9938379, 5.9938379, 5.9938379, 5.9938379, 5.9938379, 5.9938379, 5.9938379, 5.9938379, 5.9938379, 5.9938379, 5.9938379, 5.9938379, 5.9938379, 5.9938379, 5.9938379, 5.9938379, 5.9938379, 5.9938379, 5.9938379, 5.9938379, 5.9938379, 5.9938379, 5.9938379, 5.9938379, 5.9938379, 5.9938379, 5.9938379, 5.9938379, 5.9938379, 5.9938379, 5.9938379, 5.9938379, 5.9938379, 5.9938379, 5.9938379, 5.9938379, 5.9938379, 5.9938379, 5.9938379, 5.9938379, 5.9938379, 5.9938379, 5.9938379, 5.9938379, 5.9938379, 5.9938379, 5.9938379, 5.9938379, 5.9938379, 5.9938379, 5.9938379, 5.9938379, 5.9938379, 5.9938379, 5.9938379, 5.9938379, 5.9938379, 5.9938379, 5.9938379, 5.9938379, 5.9938379, 5.9938379, 5.9938379, 5.9938379, 5.9938379, 5.9938379, 5.9938379, 5.9938379, 5.9938379, 5.9938379, 5.9938379, 5.9938379, 5.9938379, 5.9938379, 5.9938379, 5.9938379, 5.9938379, 5.9938379, 5.9938379, 5.9938379, 5.9938379, 5.9938379, 5.9938379, 5.9938379, 5.9938379, 5.9938379, 5.9938379, 5.9938379, 5.9938379, 5.9938379, 5.9938379, 5.9938379, 5.9938379, 5.9938379, 5.9938379, 5.9938379, 5.9938379, 5.9938379, 5.9938379, 5.9938379, 5.9938379, 5.9938379, 5.9938379, 5.9938379, 5.9938379, 5.9938379, 5.9938379, 5.9938379, 5.9938379, 5.9938379, 5.9938379, 5.9938379, 5.9938379, 5.9938379, 5.9938379, 5.9938379, 5.9938379, 5.9938379, 5.9938379, 5.9938379, 5.9938379, 5.9938379, 5.9938379, 5.9938379, 5.9938379, 5.9938379, 5.9938379, 5.9938379, 5.9938379, 5.9938379, 5.9938379, 5.9938379, 5.9938379, 5.9938379, 5.9938379, 5.9938379, 5.9938379, 5.9938379, 5.9938379, 5.9938379, 5.9938379, 5.9938379, 5.9938379, 5.9938379, 5.9938379, 5.9938379, 5.9938379, 5.9938379, 5.9938379, 5.9938379, 5.9938379, 5.9938379, 5.9938379, 5.9938379, 6.299096963595581, 6.300524982619, 6.301953001642418, 6.303378961518002, 6.304804921393585, 6.306229851695251, 6.307654781996917, 6.3090786827246665, 6.310501553878498, 6.31192442503233, 6.3133462666122435, 6.314767078618241, 6.31618686105032, 6.317605613908482, 6.319025396340561, 6.320443119624805, 6.32186084290905, 6.323277536619377, 6.324694230329705, 6.326108864892197, 6.327523499454689, 6.328938134017181, 6.330350709431839, 6.331763284846496, 6.333174830687237, 6.33458534695406, 6.335995863220883, 6.3374043203398704, 6.338814836606693, 6.340222264151764, 6.341628662122917, 6.343036089667987, 6.344442487639141, 6.345847856036377, 6.347252194859696, 6.348655504109097, 6.350058813358498, 6.351462122607899, 6.352863372709465, 6.354264622811031, 6.355664843338681, 6.3570650638663295, 6.358463225246143, 6.3598613866259575, 6.361259548005772, 6.362655650237751, 6.36405175246973, 6.36544785470171, 6.3668418977858545, 6.368235940869999, 6.369627924806308, 6.371021967890453, 6.372413951826763, 6.373805935763073, 6.375195860551548, 6.376584755766106, 6.377974680554581, 6.379361516621303, 6.380749382261944, 6.382136218328666, 6.383522024821472, 6.384907831314278, 6.386292608233166, 6.387676355578137, 6.389060102923107, 6.390442820694161, 6.391824508891296, 6.393206197088432, 6.394586855711651, 6.395966484760952, 6.397345084236336, 6.398722654137802, 6.400101253613186, 6.401477793940735]}],\n",
              "                        {\"legend\": {\"tracegroupgap\": 0}, \"template\": {\"data\": {\"bar\": [{\"error_x\": {\"color\": \"#2a3f5f\"}, \"error_y\": {\"color\": \"#2a3f5f\"}, \"marker\": {\"line\": {\"color\": \"#E5ECF6\", \"width\": 0.5}}, \"type\": \"bar\"}], \"barpolar\": [{\"marker\": {\"line\": {\"color\": \"#E5ECF6\", \"width\": 0.5}}, \"type\": \"barpolar\"}], \"carpet\": [{\"aaxis\": {\"endlinecolor\": \"#2a3f5f\", \"gridcolor\": \"white\", \"linecolor\": \"white\", \"minorgridcolor\": \"white\", \"startlinecolor\": \"#2a3f5f\"}, \"baxis\": {\"endlinecolor\": \"#2a3f5f\", \"gridcolor\": \"white\", \"linecolor\": \"white\", \"minorgridcolor\": \"white\", \"startlinecolor\": \"#2a3f5f\"}, \"type\": \"carpet\"}], \"choropleth\": [{\"colorbar\": {\"outlinewidth\": 0, \"ticks\": \"\"}, \"type\": \"choropleth\"}], \"contour\": [{\"colorbar\": {\"outlinewidth\": 0, \"ticks\": \"\"}, \"colorscale\": [[0.0, \"#0d0887\"], [0.1111111111111111, \"#46039f\"], [0.2222222222222222, \"#7201a8\"], [0.3333333333333333, \"#9c179e\"], [0.4444444444444444, \"#bd3786\"], [0.5555555555555556, \"#d8576b\"], [0.6666666666666666, \"#ed7953\"], [0.7777777777777778, \"#fb9f3a\"], [0.8888888888888888, \"#fdca26\"], [1.0, \"#f0f921\"]], \"type\": \"contour\"}], \"contourcarpet\": [{\"colorbar\": {\"outlinewidth\": 0, \"ticks\": \"\"}, \"type\": \"contourcarpet\"}], \"heatmap\": [{\"colorbar\": {\"outlinewidth\": 0, \"ticks\": \"\"}, \"colorscale\": [[0.0, \"#0d0887\"], [0.1111111111111111, \"#46039f\"], [0.2222222222222222, \"#7201a8\"], [0.3333333333333333, \"#9c179e\"], [0.4444444444444444, \"#bd3786\"], [0.5555555555555556, \"#d8576b\"], [0.6666666666666666, \"#ed7953\"], [0.7777777777777778, \"#fb9f3a\"], [0.8888888888888888, \"#fdca26\"], [1.0, \"#f0f921\"]], \"type\": \"heatmap\"}], \"heatmapgl\": [{\"colorbar\": {\"outlinewidth\": 0, \"ticks\": \"\"}, \"colorscale\": [[0.0, \"#0d0887\"], [0.1111111111111111, \"#46039f\"], [0.2222222222222222, \"#7201a8\"], [0.3333333333333333, \"#9c179e\"], [0.4444444444444444, \"#bd3786\"], [0.5555555555555556, \"#d8576b\"], [0.6666666666666666, \"#ed7953\"], [0.7777777777777778, \"#fb9f3a\"], [0.8888888888888888, \"#fdca26\"], [1.0, \"#f0f921\"]], \"type\": \"heatmapgl\"}], \"histogram\": [{\"marker\": {\"colorbar\": {\"outlinewidth\": 0, \"ticks\": \"\"}}, \"type\": \"histogram\"}], \"histogram2d\": [{\"colorbar\": {\"outlinewidth\": 0, \"ticks\": \"\"}, \"colorscale\": [[0.0, \"#0d0887\"], [0.1111111111111111, \"#46039f\"], [0.2222222222222222, \"#7201a8\"], [0.3333333333333333, \"#9c179e\"], [0.4444444444444444, \"#bd3786\"], [0.5555555555555556, \"#d8576b\"], [0.6666666666666666, \"#ed7953\"], [0.7777777777777778, \"#fb9f3a\"], [0.8888888888888888, \"#fdca26\"], [1.0, \"#f0f921\"]], \"type\": \"histogram2d\"}], \"histogram2dcontour\": [{\"colorbar\": {\"outlinewidth\": 0, \"ticks\": \"\"}, \"colorscale\": [[0.0, \"#0d0887\"], [0.1111111111111111, \"#46039f\"], [0.2222222222222222, \"#7201a8\"], [0.3333333333333333, \"#9c179e\"], [0.4444444444444444, \"#bd3786\"], [0.5555555555555556, \"#d8576b\"], [0.6666666666666666, \"#ed7953\"], [0.7777777777777778, \"#fb9f3a\"], [0.8888888888888888, \"#fdca26\"], [1.0, \"#f0f921\"]], \"type\": \"histogram2dcontour\"}], \"mesh3d\": [{\"colorbar\": {\"outlinewidth\": 0, \"ticks\": \"\"}, \"type\": \"mesh3d\"}], \"parcoords\": [{\"line\": {\"colorbar\": {\"outlinewidth\": 0, \"ticks\": \"\"}}, \"type\": \"parcoords\"}], \"pie\": [{\"automargin\": true, \"type\": \"pie\"}], \"scatter\": [{\"marker\": {\"colorbar\": {\"outlinewidth\": 0, \"ticks\": \"\"}}, \"type\": \"scatter\"}], \"scatter3d\": [{\"line\": {\"colorbar\": {\"outlinewidth\": 0, \"ticks\": \"\"}}, \"marker\": {\"colorbar\": {\"outlinewidth\": 0, \"ticks\": \"\"}}, \"type\": \"scatter3d\"}], \"scattercarpet\": [{\"marker\": {\"colorbar\": {\"outlinewidth\": 0, \"ticks\": \"\"}}, \"type\": \"scattercarpet\"}], \"scattergeo\": [{\"marker\": {\"colorbar\": {\"outlinewidth\": 0, \"ticks\": \"\"}}, \"type\": \"scattergeo\"}], \"scattergl\": [{\"marker\": {\"colorbar\": {\"outlinewidth\": 0, \"ticks\": \"\"}}, \"type\": \"scattergl\"}], \"scattermapbox\": [{\"marker\": {\"colorbar\": {\"outlinewidth\": 0, \"ticks\": \"\"}}, \"type\": \"scattermapbox\"}], \"scatterpolar\": [{\"marker\": {\"colorbar\": {\"outlinewidth\": 0, \"ticks\": \"\"}}, \"type\": \"scatterpolar\"}], \"scatterpolargl\": [{\"marker\": {\"colorbar\": {\"outlinewidth\": 0, \"ticks\": \"\"}}, \"type\": \"scatterpolargl\"}], \"scatterternary\": [{\"marker\": {\"colorbar\": {\"outlinewidth\": 0, \"ticks\": \"\"}}, \"type\": \"scatterternary\"}], \"surface\": [{\"colorbar\": {\"outlinewidth\": 0, \"ticks\": \"\"}, \"colorscale\": [[0.0, \"#0d0887\"], [0.1111111111111111, \"#46039f\"], [0.2222222222222222, \"#7201a8\"], [0.3333333333333333, \"#9c179e\"], [0.4444444444444444, \"#bd3786\"], [0.5555555555555556, \"#d8576b\"], [0.6666666666666666, \"#ed7953\"], [0.7777777777777778, \"#fb9f3a\"], [0.8888888888888888, \"#fdca26\"], [1.0, \"#f0f921\"]], \"type\": \"surface\"}], \"table\": [{\"cells\": {\"fill\": {\"color\": \"#EBF0F8\"}, \"line\": {\"color\": \"white\"}}, \"header\": {\"fill\": {\"color\": \"#C8D4E3\"}, \"line\": {\"color\": \"white\"}}, \"type\": \"table\"}]}, \"layout\": {\"annotationdefaults\": {\"arrowcolor\": \"#2a3f5f\", \"arrowhead\": 0, \"arrowwidth\": 1}, \"coloraxis\": {\"colorbar\": {\"outlinewidth\": 0, \"ticks\": \"\"}}, \"colorscale\": {\"diverging\": [[0, \"#8e0152\"], [0.1, \"#c51b7d\"], [0.2, \"#de77ae\"], [0.3, \"#f1b6da\"], [0.4, \"#fde0ef\"], [0.5, \"#f7f7f7\"], [0.6, \"#e6f5d0\"], [0.7, \"#b8e186\"], [0.8, \"#7fbc41\"], [0.9, \"#4d9221\"], [1, \"#276419\"]], \"sequential\": [[0.0, \"#0d0887\"], [0.1111111111111111, \"#46039f\"], [0.2222222222222222, \"#7201a8\"], [0.3333333333333333, \"#9c179e\"], [0.4444444444444444, \"#bd3786\"], [0.5555555555555556, \"#d8576b\"], [0.6666666666666666, \"#ed7953\"], [0.7777777777777778, \"#fb9f3a\"], [0.8888888888888888, \"#fdca26\"], [1.0, \"#f0f921\"]], \"sequentialminus\": [[0.0, \"#0d0887\"], [0.1111111111111111, \"#46039f\"], [0.2222222222222222, \"#7201a8\"], [0.3333333333333333, \"#9c179e\"], [0.4444444444444444, \"#bd3786\"], [0.5555555555555556, \"#d8576b\"], [0.6666666666666666, \"#ed7953\"], [0.7777777777777778, \"#fb9f3a\"], [0.8888888888888888, \"#fdca26\"], [1.0, \"#f0f921\"]]}, \"colorway\": [\"#636efa\", \"#EF553B\", \"#00cc96\", \"#ab63fa\", \"#FFA15A\", \"#19d3f3\", \"#FF6692\", \"#B6E880\", \"#FF97FF\", \"#FECB52\"], \"font\": {\"color\": \"#2a3f5f\"}, \"geo\": {\"bgcolor\": \"white\", \"lakecolor\": \"white\", \"landcolor\": \"#E5ECF6\", \"showlakes\": true, \"showland\": true, \"subunitcolor\": \"white\"}, \"hoverlabel\": {\"align\": \"left\"}, \"hovermode\": \"closest\", \"mapbox\": {\"style\": \"light\"}, \"paper_bgcolor\": \"white\", \"plot_bgcolor\": \"#E5ECF6\", \"polar\": {\"angularaxis\": {\"gridcolor\": \"white\", \"linecolor\": \"white\", \"ticks\": \"\"}, \"bgcolor\": \"#E5ECF6\", \"radialaxis\": {\"gridcolor\": \"white\", \"linecolor\": \"white\", \"ticks\": \"\"}}, \"scene\": {\"xaxis\": {\"backgroundcolor\": \"#E5ECF6\", \"gridcolor\": \"white\", \"gridwidth\": 2, \"linecolor\": \"white\", \"showbackground\": true, \"ticks\": \"\", \"zerolinecolor\": \"white\"}, \"yaxis\": {\"backgroundcolor\": \"#E5ECF6\", \"gridcolor\": \"white\", \"gridwidth\": 2, \"linecolor\": \"white\", \"showbackground\": true, \"ticks\": \"\", \"zerolinecolor\": \"white\"}, \"zaxis\": {\"backgroundcolor\": \"#E5ECF6\", \"gridcolor\": \"white\", \"gridwidth\": 2, \"linecolor\": \"white\", \"showbackground\": true, \"ticks\": \"\", \"zerolinecolor\": \"white\"}}, \"shapedefaults\": {\"line\": {\"color\": \"#2a3f5f\"}}, \"ternary\": {\"aaxis\": {\"gridcolor\": \"white\", \"linecolor\": \"white\", \"ticks\": \"\"}, \"baxis\": {\"gridcolor\": \"white\", \"linecolor\": \"white\", \"ticks\": \"\"}, \"bgcolor\": \"#E5ECF6\", \"caxis\": {\"gridcolor\": \"white\", \"linecolor\": \"white\", \"ticks\": \"\"}}, \"title\": {\"x\": 0.05}, \"xaxis\": {\"automargin\": true, \"gridcolor\": \"white\", \"linecolor\": \"white\", \"ticks\": \"\", \"title\": {\"standoff\": 15}, \"zerolinecolor\": \"white\", \"zerolinewidth\": 2}, \"yaxis\": {\"automargin\": true, \"gridcolor\": \"white\", \"linecolor\": \"white\", \"ticks\": \"\", \"title\": {\"standoff\": 15}, \"zerolinecolor\": \"white\", \"zerolinewidth\": 2}}}, \"title\": {\"text\": \"Prediction vs. Actual\"}, \"xaxis\": {\"anchor\": \"y\", \"domain\": [0.0, 1.0]}, \"yaxis\": {\"anchor\": \"x\", \"domain\": [0.0, 1.0]}},\n",
              "                        {\"responsive\": true}\n",
              "                    ).then(function(){\n",
              "                            \n",
              "var gd = document.getElementById('a90e937d-3894-437a-a6e8-174eeacd06c7');\n",
              "var x = new MutationObserver(function (mutations, observer) {{\n",
              "        var display = window.getComputedStyle(gd).display;\n",
              "        if (!display || display === 'none') {{\n",
              "            console.log([gd, 'removed!']);\n",
              "            Plotly.purge(gd);\n",
              "            observer.disconnect();\n",
              "        }}\n",
              "}});\n",
              "\n",
              "// Listen for the removal of the full notebook cells\n",
              "var notebookContainer = gd.closest('#notebook-container');\n",
              "if (notebookContainer) {{\n",
              "    x.observe(notebookContainer, {childList: true});\n",
              "}}\n",
              "\n",
              "// Listen for the clearing of the current output cell\n",
              "var outputEl = gd.closest('.output');\n",
              "if (outputEl) {{\n",
              "    x.observe(outputEl, {childList: true});\n",
              "}}\n",
              "\n",
              "                        })\n",
              "                };\n",
              "                \n",
              "            </script>\n",
              "        </div>\n",
              "</body>\n",
              "</html>"
            ]
          },
          "metadata": {
            "tags": []
          }
        }
      ]
    }
  ]
}